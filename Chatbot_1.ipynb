{
  "nbformat": 4,
  "nbformat_minor": 0,
  "metadata": {
    "colab": {
      "provenance": []
    },
    "kernelspec": {
      "name": "python3",
      "display_name": "Python 3"
    },
    "language_info": {
      "name": "python"
    }
  },
  "cells": [
    {
      "cell_type": "markdown",
      "source": [
        "### ChatBot\n",
        "Using different algorithms to create a functional chatbot using NLP\n",
        "\n",
        "The response is from a health clubs member contract. The aim is to make a customer service bot to handle basic requests.\n",
        "\n",
        "There are 2 algorithms in total, each can be chopped and changed to test within the 'get_best_response' function."
      ],
      "metadata": {
        "id": "Ve_qqBla1Ymv"
      }
    },
    {
      "cell_type": "code",
      "source": [
        "# responses.py (continued)\n",
        "responses={\n",
        "    \"Can I transfer my membership to another David Lloyd Club?\": \"Membership transfers may be possible. Please contact your club reception or refer to the terms and conditions for details on transferring your membership.\",\n",
        "\n",
        "    \"What is the Crystal Mark from Plain English Campaign?\": \"The Crystal Mark from Plain English Campaign is a recognition of clear and user-friendly communication. We have worked with them to make these terms and conditions as easy to understand as possible.\",\n",
        "\n",
        "    \"How can I contact my club for assistance?\": \"You can contact your club for assistance by visiting the club reception or by using the contact information provided on the club's website.\",\n",
        "\n",
        "    \"Are there age restrictions for using certain facilities?\": \"Some facilities may have age restrictions for safety and operational reasons. These restrictions are outlined in the rules and regulations for using facilities in Part B.\",\n",
        "\n",
        "    \"What happens if I violate the terms and conditions?\": \"Violating the terms and conditions may result in actions such as warnings, suspension of membership, or termination of membership. The specific consequences depend on the nature of the violation.\",\n",
        "\n",
        "    \"Are there any additional terms for online facilities or groups?\": \"Yes, if you sign up for any online facilities or groups, extra terms and conditions may apply. Please review these additional terms for specific details.\",\n",
        "\n",
        "    \"Can I bring guests to the club?\": \"Yes, you can bring guests to the club. However, they will need to adhere to the rules and regulations for using facilities, and you may be responsible for any fees or charges incurred by your guests.\",\n",
        "\n",
        "    \"Is there a cooling-off period for memberships?\": \"Some memberships may have a cooling-off period, during which you can cancel your membership and receive a refund. Please refer to your specific membership agreement for details.\",\n",
        "\n",
        "    \"What happens if I want to cancel my membership during the term?\": \"If you wish to cancel your membership during the term, you may be subject to cancellation fees or penalties. The terms and conditions outline the procedure for canceling memberships.\",\n",
        "\n",
        "    \"How can I access the Member's Lounge online?\": \"You can access the Member's Lounge online by visiting www.davidlloyd.co.uk/account/loginand-registration and following the registration process. Once registered, you will have access to exclusive member benefits.\",\n",
        "\n",
        "    \"What benefits are available in the Member's Lounge?\": \"The Member's Lounge offers a range of exclusive benefits, including online bookings, club updates, and special offers. You can explore these benefits once you have registered and logged in.\",\n",
        "\n",
        "    \"Can I change my personal information in the Member's Lounge?\": \"Yes, you can update your personal information, such as contact details, in the Member's Lounge. This ensures that we have accurate information for communication purposes.\",\n",
        "\n",
        "    \"Are there any restrictions on class bookings?\": \"Some classes may have restrictions based on availability and membership type. Please check the class schedule or contact the club reception for information on class bookings.\",\n",
        "\n",
        "    \"What is the purpose of the Priority Booking window for All Stars courses?\": \"The Priority Booking window for All Stars courses is designed to allow current child participants to renew their spots for the following term before opening up bookings to other children. This helps ensure continuity for existing participants.\",\n",
        "\n",
        "    \"Can I change my child's All Stars course after booking?\": \"Changing your child's All Stars course may be possible depending on availability and the club's policies. Please contact the club reception to inquire about changing course bookings.\",\n",
        "\n",
        "    \"How can I renew my child's All Stars course membership?\": \"Child participants in All Stars courses can renew their memberships for the following term. If you pay by Direct Debit, renewal is automatic unless you provide notice to cancel.\",\n",
        "\n",
        "    \"Is there a difference between adult and child memberships in terms of access to facilities?\": \"Membership categories may have different access levels and privileges for adults and children. Please review your specific membership agreement for details on facility access.\",\n",
        "\n",
        "    \"How can I find out if my club has tennis facilities?\": \"You can check if your club has tennis facilities by visiting the club's website or by contacting the club reception. Not all clubs may offer tennis facilities.\",\n",
        "\n",
        "    \"What if my membership package includes access to multiple clubs?\": \"If your membership package includes access to multiple clubs, you can typically use the facilities at any of these clubs. Please check your membership agreement or contact the club membership team for details.\",\n",
        "\n",
        "    \"Can I cancel my child's All Stars course membership at any time?\": \"You can cancel your child's All Stars course membership, but you may need to provide notice and follow the procedure outlined in the terms and conditions. Please refer to A14 'Ending your membership' for details.\",\n",
        "\n",
        "    \"How can I provide feedback or suggestions to the club?\": \"You can provide feedback or suggestions to the club by contacting the club reception or using the contact information provided on the club's website. Your input is valuable to us.\",\n",
        "\n",
        "    \"Are there any restrictions on using certain facilities during peak hours?\": \"Some facilities may have peak hours, during which access may be restricted or subject to additional charges. These restrictions are outlined in the rules and regulations for using facilities.\",\n",
        "\n",
        "    \"What is the purpose of the Plain English Campaign's Crystal Mark?\": \"The Plain English Campaign's Crystal Mark is a symbol of clear and easy-to-understand communication. It signifies that our terms and conditions have been reviewed for clarity.\",\n",
        "\n",
        "    \"Can I transfer my membership to a family member or friend?\": \"Membership transfers to family members or friends may be possible, but specific conditions and procedures apply. Please contact the club reception or refer to the terms and conditions for details on transferring memberships.\",\n",
        "\n",
        "    \"Is there a specific procedure for changing my membership details?\": \"Yes, there is a procedure for changing membership details. You can typically update your details in the Member's Lounge or by contacting the club reception. Specific instructions are available in your membership agreement.\",\n",
        "\n",
        "    \"What happens if I lose my membership card?\": \"If you lose your membership card, please contact the club reception to request a replacement card. You will need your card for access to the club facilities.\",\n",
        "\n",
        "    \"Can I book facilities or classes for my family members?\": \"Booking facilities or classes for family members may be possible, but availability and policies may vary. Please check with the club reception or refer to the terms and conditions for details on booking for family members.\",\n",
        "\n",
        "    \"How can I stay informed about club updates and announcements?\": \"You can stay informed about club updates and announcements by checking the club's website, subscribing to newsletters, or following the club on social media. We regularly share important information with our members.\",\n",
        "\n",
        "    \"What is the procedure for renewing my membership?\": \"The procedure for renewing your membership may vary depending on your membership type. Typically, you can renew your membership in the Member's Lounge or by contacting the club reception.\",\n",
        "\n",
        "    \"Can I cancel my membership if I move to a different location?\": \"Cancelling your membership due to relocation may be possible, but specific conditions and documentation may be required. Please contact the club reception or refer to the terms and conditions for details on cancelling memberships due to relocation.\",\n",
        "\n",
        "    \"How can I access special offers and promotions as a member?\": \"As a member, you can access special offers and promotions by checking the club's website, visiting the Member's Lounge, or subscribing to newsletters. We regularly provide exclusive offers to our members.\",\n",
        "\n",
        "    \"What is the procedure for addressing concerns or complaints?\": \"If you have concerns or complaints, please address them with the club reception or management. We take feedback seriously and will work to resolve any issues to your satisfaction.\",\n",
        "\n",
        "    \"Is there a time limit for using guest passes?\": \"Guest passes may have specific time limits or expiration dates. Please check with the club reception or refer to the terms and conditions for details on using guest passes.\",\n",
        "\n",
        "    \"How can I access online facilities and groups?\": \"You can access online facilities and groups by registering and logging in to the Member's Lounge. Once logged in, you may find additional online resources and communities available to you.\",\n",
        "\n",
        "    \"What are the benefits of being a David Lloyd Club member?\": \"David Lloyd Club members enjoy a range of benefits, including access to state-of-the-art facilities, exclusive events, fitness classes, and special offers. Your membership offers you a holistic fitness and wellness experience.\",\n",
        "\n",
        "    \"Can I use facilities at other David Lloyd Clubs with my membership?\": \"Some memberships may provide access to multiple David Lloyd Clubs. Please review your membership agreement for details on accessing facilities at other clubs.\",\n",
        "\n",
        "    \"What is the procedure for updating emergency contact information?\": \"Updating emergency contact information can typically be done in the Member's Lounge or by contacting the club reception. It's important to keep this information current for safety purposes.\",\n",
        "\n",
        "    \"Can I bring children to the club?\": \"Yes, you can bring children to the club, but please review the club's policies regarding child access and supervision. We want to ensure a safe and enjoyable experience for all members and guests.\",\n",
        "\n",
        "    \"Is there a procedure for requesting a membership freeze?\": \"Membership freezes may be possible under certain circumstances. Please contact the club reception or refer to the terms and conditions for details on requesting a membership freeze.\",\n",
        "\n",
        "    \"How can I access the Member's Lounge if I forget my login credentials?\": \"If you forget your login credentials for the Member's Lounge, you can use the 'Forgot Password' feature on the login page to reset your password. If you encounter any issues, please contact our support team.\",\n",
        "\n",
        "    \"Can I book facilities or classes online for my child?\": \"Yes, you can typically book facilities or classes online for your child. Please review the online booking system or contact the club reception for information on booking for children.\",\n",
        "\n",
        "    \"What amenities are available at my club?\": \"Amenities may vary by club location, but typically include fitness areas, swimming pools, racquet sports, dining options, and more. You can check your specific club's amenities on the club's website.\",\n",
        "\n",
        "    \"How can I access my membership agreement online?\": \"You can access your membership agreement online through the Member's Lounge. It is important to review and understand the terms and conditions of your membership.\",\n",
        "\n",
        "    \"What is the procedure for transferring my membership to a family member?\": \"Transferring your membership to a family member may be possible, but specific conditions and procedures apply. Please contact the club reception or refer to the terms and conditions for details on transferring memberships to family members.\"\n",
        "}\n"
      ],
      "metadata": {
        "id": "svTLXkiKU3XF"
      },
      "execution_count": 7,
      "outputs": []
    },
    {
      "cell_type": "code",
      "source": [
        "def get_best_response(user_input):\n",
        "  best_match = None\n",
        "  best_score = 0\n",
        "  for question, response in responses.items():\n",
        "      score = jaccard_similarity(user_input.lower(), question.lower())\n",
        "      if score > best_score:\n",
        "        best_score = score\n",
        "        best_match = response\n",
        "\n",
        "  return best_match"
      ],
      "metadata": {
        "id": "OU-C-PlZVAlq"
      },
      "execution_count": 9,
      "outputs": []
    },
    {
      "cell_type": "code",
      "source": [
        "def levenshtein_similarity(str1, str2):\n",
        "    m, n = len(str1), len(str2)\n",
        "\n",
        "    matrix = [[0] * (n + 1) for _ in range(m + 1)]\n",
        "\n",
        "    for i in range(m + 1):\n",
        "        matrix[i][0] = i\n",
        "    for j in range(n + 1):\n",
        "        matrix[0][j] = j\n",
        "\n",
        "    for i in range(1, m + 1):\n",
        "        for j in range(1, n + 1):\n",
        "            cost = 0 if str1[i - 1] == str2[j - 1] else 1\n",
        "            matrix[i][j] = min(\n",
        "                matrix[i - 1][j] + 1,       # Deletion\n",
        "                matrix[i][j - 1] + 1,       # Insertion\n",
        "                matrix[i - 1][j - 1] + cost  # Substitution\n",
        "            )\n",
        "\n",
        "    max_length = max(m, n)\n",
        "    similarity_score = 1 - (matrix[m][n] / max_length)\n",
        "\n",
        "    return similarity_score"
      ],
      "metadata": {
        "id": "0654yxwR2Xx0"
      },
      "execution_count": 4,
      "outputs": []
    },
    {
      "cell_type": "code",
      "source": [
        "def jaccard_similarity(str1, str2):\n",
        "    set1 = set(str1.split())\n",
        "    set2 = set(str2.split())\n",
        "\n",
        "    intersection = len(set1.intersection(set2))\n",
        "    union = len(set1) + len(set2) - intersection\n",
        "\n",
        "    similarity_score = intersection / union\n",
        "    return similarity_score"
      ],
      "metadata": {
        "id": "o2S4hZs_3r_K"
      },
      "execution_count": 10,
      "outputs": []
    },
    {
      "cell_type": "code",
      "source": [
        "print('ChatBot >> Hey! Please ask me a question!')\n",
        "while True:\n",
        "  user_input = input('You >> ')\n",
        "\n",
        "  if user_input.lower() == 'quit':\n",
        "    break\n",
        "  else:\n",
        "    print('ChatBot >>', get_best_response(user_input))"
      ],
      "metadata": {
        "colab": {
          "base_uri": "https://localhost:8080/"
        },
        "id": "yJ8Gt3msXDQn",
        "outputId": "e618af90-3f09-4763-c6d9-03f2b789bbc9"
      },
      "execution_count": 13,
      "outputs": [
        {
          "name": "stdout",
          "output_type": "stream",
          "text": [
            "ChatBot >> Hey! Please ask me a question!\n",
            "You >> im moving house, can i transfer to a different club?\n",
            "ChatBot >> Membership transfers may be possible. Please contact your club reception or refer to the terms and conditions for details on transferring your membership.\n",
            "You >> Can i bring a guest to the club?\n",
            "ChatBot >> Yes, you can bring guests to the club. However, they will need to adhere to the rules and regulations for using facilities, and you may be responsible for any fees or charges incurred by your guests.\n",
            "You >> Can my guest do classes with me?\n",
            "ChatBot >> Booking facilities or classes for family members may be possible, but availability and policies may vary. Please check with the club reception or refer to the terms and conditions for details on booking for family members.\n",
            "You >> i'd like to update emergency contact details \n",
            "ChatBot >> Updating emergency contact information can typically be done in the Member's Lounge or by contacting the club reception. It's important to keep this information current for safety purposes.\n",
            "You >> quit\n"
          ]
        }
      ]
    },
    {
      "cell_type": "code",
      "source": [],
      "metadata": {
        "id": "tWDrC8gUXsTd"
      },
      "execution_count": null,
      "outputs": []
    }
  ]
}